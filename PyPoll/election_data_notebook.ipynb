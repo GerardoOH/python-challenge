{
 "cells": [
  {
   "cell_type": "code",
   "execution_count": 2,
   "metadata": {},
   "outputs": [],
   "source": [
    "import csv\n",
    "\n",
    "# Initialize variables\n",
    "total_votes = 0\n",
    "candidates = {}\n",
    "winner = \"\"\n",
    "winner_votes = 0"
   ]
  },
  {
   "cell_type": "code",
   "execution_count": 3,
   "metadata": {},
   "outputs": [],
   "source": [
    "# Read the CSV file\n",
    "with open('Resources/election_data.csv', 'r') as file:\n",
    "    csvreader = csv.reader(file)\n",
    "    header = next(csvreader)  # Skip the header\n",
    "    for row in csvreader:\n",
    "        total_votes += 1\n",
    "        candidate = row[2]\n",
    "        if candidate in candidates:\n",
    "            candidates[candidate] += 1\n",
    "        else:\n",
    "            candidates[candidate] = 1"
   ]
  },
  {
   "cell_type": "code",
   "execution_count": 4,
   "metadata": {},
   "outputs": [],
   "source": [
    "# Calculate the percentage of votes each candidate won and determine the winner\n",
    "output_lines = []\n",
    "for candidate, votes in candidates.items():\n",
    "    percentage = (votes / total_votes) * 100\n",
    "    output_lines.append(f\"{candidate}: {percentage:.3f}% ({votes})\")\n",
    "    if votes > winner_votes:\n",
    "        winner = candidate\n",
    "        winner_votes = votes"
   ]
  },
  {
   "cell_type": "code",
   "execution_count": 5,
   "metadata": {},
   "outputs": [],
   "source": [
    "# Prepare the output string\n",
    "output = (\n",
    "    f\"Total Votes: {total_votes}\\n\"\n",
    "    + \"-\"*30 + \"\\n\"\n",
    "    + \"\\n\".join(output_lines) + \"\\n\"\n",
    "    + \"-\"*30 + \"\\n\"\n",
    "    + f\"Winner: {winner}\\n\"\n",
    "    + \"-\"*30 + \"\\n\"\n",
    ")"
   ]
  },
  {
   "cell_type": "code",
   "execution_count": 6,
   "metadata": {},
   "outputs": [
    {
     "name": "stdout",
     "output_type": "stream",
     "text": [
      "Total Votes: 369711\n",
      "------------------------------\n",
      "Charles Casper Stockham: 23.049% (85213)\n",
      "Diana DeGette: 73.812% (272892)\n",
      "Raymon Anthony Doane: 3.139% (11606)\n",
      "------------------------------\n",
      "Winner: Diana DeGette\n",
      "------------------------------\n",
      "\n"
     ]
    }
   ],
   "source": [
    "# Write the output to a text file\n",
    "with open('Analysis/election_results.txt', 'w') as output_file:\n",
    "    output_file.write(output)\n",
    "\n",
    "# Print the output to the terminal\n",
    "print(output)"
   ]
  }
 ],
 "metadata": {
  "kernelspec": {
   "display_name": "base",
   "language": "python",
   "name": "python3"
  },
  "language_info": {
   "codemirror_mode": {
    "name": "ipython",
    "version": 3
   },
   "file_extension": ".py",
   "mimetype": "text/x-python",
   "name": "python",
   "nbconvert_exporter": "python",
   "pygments_lexer": "ipython3",
   "version": "3.9.6"
  }
 },
 "nbformat": 4,
 "nbformat_minor": 2
}
